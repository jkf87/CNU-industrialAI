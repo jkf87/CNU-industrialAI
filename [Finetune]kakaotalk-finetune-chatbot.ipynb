{
  "nbformat": 4,
  "nbformat_minor": 0,
  "metadata": {
    "colab": {
      "private_outputs": true,
      "provenance": [],
      "toc_visible": true,
      "authorship_tag": "ABX9TyM3jhwjjupO2i3gzIBAXbIr",
      "include_colab_link": true
    },
    "kernelspec": {
      "name": "python3",
      "display_name": "Python 3"
    },
    "language_info": {
      "name": "python"
    }
  },
  "cells": [
    {
      "cell_type": "markdown",
      "metadata": {
        "id": "view-in-github",
        "colab_type": "text"
      },
      "source": [
        "<a href=\"https://colab.research.google.com/github/jkf87/CNU-industrialAI/blob/main/%5B%EC%98%88%EC%A0%9C%5D%EB%82%98%EC%B2%98%EB%9F%BC_%EB%A7%90%ED%95%98%EB%8A%94_%EC%B1%97%EB%B4%87_%EB%A7%8C%EB%93%A4%EA%B8%B0_ipynb%EC%9D%98_%EC%82%AC%EB%B3%B8.ipynb\" target=\"_parent\"><img src=\"https://colab.research.google.com/assets/colab-badge.svg\" alt=\"Open In Colab\"/></a>"
      ]
    },
    {
      "cell_type": "markdown",
      "source": [
        "##필요한 라이브러리 설치하기\n",
        "- [openai](https://platform.openai.com/docs/introduction)\n",
        "- [gradio](https://www.gradio.app/docs/interface)\n",
        "- 최근 업데이트 이후로 레거시 코드를 지원하지 않는 경우가 있어 코드에 오류가 발생했을경우  [마이그레이션 가이드](https://learn.microsoft.com/ko-kr/azure/ai-services/openai/how-to/migration?tabs=python%2Cdalle-fix) 를 참고하세요"
      ],
      "metadata": {
        "id": "DBZT0o8v3cJl"
      }
    },
    {
      "cell_type": "code",
      "source": [
        "!pip install -q openai gradio"
      ],
      "metadata": {
        "id": "87kaEIy04Neg"
      },
      "execution_count": null,
      "outputs": []
    },
    {
      "cell_type": "code",
      "source": [
        "# @title 안되면 레거시 코드를 씁니다.\n",
        "\n",
        "!pip install -q openai==0.28"
      ],
      "metadata": {
        "id": "8Fr30O4c3Y9O"
      },
      "execution_count": null,
      "outputs": []
    },
    {
      "cell_type": "markdown",
      "source": [
        "#나처럼 말하는 챗봇 만들기\n",
        "- 카카오톡 데이터를 내보내기 하여 txt파일을 받아주세요.\n",
        "![image.png](https://i.imgur.com/XGVLdJV.png)\n",
        "- 2명의 대화만 지원합니다.\n",
        "- 3명 이상의 대화를 처리하려면 `user`와 `asistant`를 지정해서 1:1의 대화 형태로 별도로 대화를 출력해 finetune할 수 있습니다\n",
        "- `system_message_content`에 입력된 프롬프트를 수정해주세요\n"
      ],
      "metadata": {
        "id": "YHpdHF4JcekY"
      }
    },
    {
      "cell_type": "code",
      "source": [
        "from google.colab import files\n",
        "import re\n",
        "import json\n",
        "\n",
        "def upload_kakao_file():\n",
        "    print(\"카카오톡 데이터 파일을 업로드 해주세요.\")\n",
        "    uploaded = files.upload()\n",
        "    for file_name in uploaded.keys():\n",
        "        return file_name  # Return the name of the uploaded file\n",
        "\n",
        "def modified_kakao_to_jsonl_and_save() -> None:\n",
        "    file_path = upload_kakao_file()\n",
        "\n",
        "    # Prompt the user for names\n",
        "    user_name = input(\"user_name에 사용할 이름을 입력해주세요 (예: 홍길동): \")\n",
        "    assistant_name = input(\"assistant_name에 사용할 이름을 입력해주세요 (예: 한준구): \")\n",
        "\n",
        "    with open(file_path, \"r\", encoding=\"utf-8\") as file:\n",
        "        kakao_data = file.read()\n",
        "\n",
        "    date_splits = re.split(r'--------------- \\d{4}년 \\d{1,2}월 \\d{1,2}일 [월화수목금토일]요일 ---------------', kakao_data)\n",
        "\n",
        "    jsonl_data = []\n",
        "    for date_split in date_splits:\n",
        "        day_messages = re.findall(rf'\\[({assistant_name}|{user_name})\\] \\[.+\\] (.+)', date_split)\n",
        "\n",
        "        # If there are any messages for this date\n",
        "        if day_messages:\n",
        "            for i in range(len(day_messages) - 1):\n",
        "                # 현재 메시지와 다음 메시지 쌍을 확인\n",
        "                current_message = day_messages[i]\n",
        "                next_message = day_messages[i + 1]\n",
        "\n",
        "                # 사용자의 메시지 다음에 어시스턴트의 메시지가 오는 경우만 처리\n",
        "                if current_message[0] == user_name and next_message[0] == assistant_name:\n",
        "                    conversation_entry = {\n",
        "                        \"messages\": [\n",
        "                            {\"role\": \"system\", \"content\":  f\"너는 카카오톡 대화를 하는 60대 여성이고 이름은 {assistant_name}야, 사람처럼 행동해\"},\n",
        "                            {\"role\": \"user\", \"content\": current_message[1]},\n",
        "                            {\"role\": \"assistant\", \"content\": next_message[1]}\n",
        "                        ]\n",
        "                    }\n",
        "                    jsonl_data.append(json.dumps(conversation_entry, ensure_ascii=False))\n",
        "\n",
        "    # Save the converted data to a .jsonl file\n",
        "    output_file_path = \"converted_kakao_data.jsonl\"\n",
        "    with open(output_file_path, 'w', encoding='utf-8') as file:\n",
        "        file.write(\"\\n\".join(jsonl_data))\n",
        "\n",
        "    print(f\"변환된 데이터가 '{output_file_path}'로 저장되었습니다.\")\n",
        "\n",
        "# Execution in Colab\n",
        "modified_kakao_to_jsonl_and_save()\n"
      ],
      "metadata": {
        "id": "C0ZJmPvx6959"
      },
      "execution_count": null,
      "outputs": []
    },
    {
      "cell_type": "markdown",
      "source": [
        "#파인튜닝을 위해 데이터 업로드하기\n",
        "- openai api 키 입력\n",
        "  - `openai.api_key` 에 openai api key를 입력합니다. 모둠별 api key를 돌아가면서 한명씩 실습하도록 하겠습니다.\n",
        "- 데이터 업로드\n",
        "  - 앞에서 생성한 `json` 데이터 파일을 업로드 해주세요."
      ],
      "metadata": {
        "id": "SG8U7Fa2x3vo"
      }
    },
    {
      "cell_type": "code",
      "source": [
        "from openai import OpenAI\n",
        "\n",
        "client = OpenAI(\n",
        "  api_key='sk-',\n",
        ")\n",
        "\n",
        "\n",
        "client.files.create(\n",
        "    file=open(\"/content/converted_kakao_data.jsonl\", \"rb\"),\n",
        "    purpose='fine-tune'\n",
        ")"
      ],
      "metadata": {
        "id": "l69hKD6IdS--"
      },
      "execution_count": null,
      "outputs": []
    },
    {
      "cell_type": "markdown",
      "source": [
        "### 파일 업로드 확인하기\n",
        "\n",
        "- 내가 올린 파일 이름 `\"filename\"`을 찾기\n",
        "- `file-영어대소문자` 형태 이름을 확인\n",
        "- `\"status\": \"processed\",` 인지 확인하기 (업로드 완료)"
      ],
      "metadata": {
        "id": "ZtvXpBXCuvC5"
      }
    },
    {
      "cell_type": "code",
      "source": [
        "import json\n",
        "\n",
        "files_list=client.files.list()\n",
        "\n",
        "# 각 FileObject의 정보를 추출하여 리스트에 저장\n",
        "files_info = []\n",
        "for file_object in files_list.data:\n",
        "    file_info = {\n",
        "        'id': file_object.id,\n",
        "        'bytes': file_object.bytes,\n",
        "        'created_at': file_object.created_at,\n",
        "        'filename': file_object.filename,\n",
        "        'object': file_object.object,\n",
        "        'purpose': file_object.purpose,\n",
        "        'status': file_object.status,\n",
        "        'status_details': file_object.status_details\n",
        "    }\n",
        "    files_info.append(file_info)\n",
        "\n",
        "# JSON 데이터로 변환 및 예쁘게 출력\n",
        "print(json.dumps(files_info, indent=4))"
      ],
      "metadata": {
        "id": "7rvJ0pAZpfs1"
      },
      "execution_count": null,
      "outputs": []
    },
    {
      "cell_type": "code",
      "source": [
        "# @title 잘못 올린 파일 삭제하기\n",
        "client.files.delete(\"file-Xuua6O5HJIS8WwJWaIqSVy0c\")"
      ],
      "metadata": {
        "cellView": "form",
        "id": "-2RegQpQtEnn"
      },
      "execution_count": null,
      "outputs": []
    },
    {
      "cell_type": "markdown",
      "source": [
        "##업로드 된 데이터 id를 아래 코드에 넣기\n",
        "- `\"id\": file-난수 ` 부분을 복사하기\n",
        "- 업로드 확인\n",
        "  - [업로드 여부 확인](https://platform.openai.com/files) 클릭하여 파일 업로드 되었는지 확인하기\n",
        "  - 자신의 계정이 아닌 경우 `openai.files.list()` (앞 코드 활용)\n",
        "- id 지정하고 model 튜닝 시작하기"
      ],
      "metadata": {
        "id": "z53KYM677wOd"
      }
    },
    {
      "cell_type": "code",
      "source": [
        "#작업에 맞게 id 변경하기\n",
        "id = \"file-ZN0Rur5Rls8KSff6rjlgi7r0\"\n",
        "\n",
        "client.fine_tuning.jobs.create(\n",
        "    training_file=id,\n",
        "    model=\"gpt-3.5-turbo\"\n",
        ")"
      ],
      "metadata": {
        "id": "79w3E5dx72Ni"
      },
      "execution_count": null,
      "outputs": []
    },
    {
      "cell_type": "markdown",
      "source": [
        "## 튜닝 결과 : `ft.gpt-3.5-turbo-0613:personal:난수` 형태 모델이름 확인하기\n",
        "`\"fine_tuned_model\": \"ft:gpt-3.5-turbo-0613:personal::난수`\n",
        " - [튜닝과정확인](https://platform.openai.com/finetune)"
      ],
      "metadata": {
        "id": "J9_qHWlZ-5TW"
      }
    },
    {
      "cell_type": "code",
      "source": [
        "# @title 레거시 코드, 기존 진행상황을 확인하는 방법\n",
        "#이걸로 진행상황을 알 수 있음\n",
        "client.fine_tuning.jobs.list(limit=10)\n",
        "\n"
      ],
      "metadata": {
        "id": "oEnzxiRR__4x",
        "cellView": "form"
      },
      "execution_count": null,
      "outputs": []
    },
    {
      "cell_type": "markdown",
      "source": [
        "## 파인튜닝 작업 추적하기"
      ],
      "metadata": {
        "id": "VmOyHfQaryzv"
      }
    },
    {
      "cell_type": "code",
      "source": [
        "import time\n",
        "ft_id = \"ftjob-39EDncDyAO4xyZa8RBCSkBjM\""
      ],
      "metadata": {
        "id": "--EkrnhwxaU_"
      },
      "execution_count": null,
      "outputs": []
    },
    {
      "cell_type": "markdown",
      "source": [
        "## 일정 기간동안 돌아가면서 step, training loss 등을 확인"
      ],
      "metadata": {
        "id": "n-yAgVGHglVN"
      }
    },
    {
      "cell_type": "code",
      "source": [
        "import openai\n",
        "import time\n",
        "from datetime import datetime\n",
        "\n",
        "# 마지막으로 처리한 이벤트의 시간을 추적\n",
        "last_processed_time = 0\n",
        "\n",
        "while True:\n",
        "    # Fine-tuning 작업 상태 조회\n",
        "    job_status = client.fine_tuning.jobs.retrieve(ft_id)\n",
        "    if job_status.status in ['succeeded', 'failed', 'cancelled']:\n",
        "        print(f\"Fine-tuning 작업 완료: {job_status.status}\")\n",
        "        break\n",
        "\n",
        "    # Fine-tuning 작업 이벤트 조회\n",
        "    events = client.fine_tuning.jobs.list_events(ft_id).data\n",
        "\n",
        "    # 현재 시간 기록\n",
        "    current_time = datetime.now().strftime(\"%H시 %M분 %S초\")\n",
        "\n",
        "    for event in events:\n",
        "        if event.type == 'metrics':\n",
        "            event_time = event.created_at\n",
        "            # 새로운 이벤트만 처리\n",
        "            if event_time > last_processed_time:\n",
        "                last_processed_time = event_time\n",
        "                step = event.data.get('step', '-')\n",
        "                train_loss = event.data.get('train_loss', '-')\n",
        "                val_loss = event.data.get('val_loss', '-')\n",
        "                print(f\"{current_time}\\tStep: {step}\\tTraining Loss: {train_loss}\\tValidation Loss: {val_loss}\")\n",
        "\n",
        "    # 10초 대기 후 반복\n",
        "    time.sleep(10)\n",
        "\n",
        "# Fine-tuning 작업 완료 후 추가 정보 출력\n",
        "if job_status.status == 'succeeded':\n",
        "    print(f\"Fine-tuning 작업 완료: {job_status.status}\")\n",
        "    if hasattr(job_status, 'fine_tuned_model'):\n",
        "        print(f\"생성된 모델: {job_status.fine_tuned_model}\")\n",
        "else:\n",
        "    print(f\"Fine-tuning 작업 실패 또는 취소: {job_status.status}\")"
      ],
      "metadata": {
        "id": "BBpaBncuqdal"
      },
      "execution_count": null,
      "outputs": []
    },
    {
      "cell_type": "markdown",
      "source": [
        "## 튜닝 모델 테스트 해보기\n",
        "- 잘 튜닝되었는지 테스트\n",
        "- gradio로 챗봇 서빙하기\n",
        "\n"
      ],
      "metadata": {
        "id": "bKSvdCVa9wKj"
      }
    },
    {
      "cell_type": "code",
      "source": [
        "\n",
        "#간단하게 출력 확인하기\n",
        "model_id = job_status.fine_tuned_model\n",
        "\n",
        "user_input = \"뭐라고 기도해줄꺼야?\"\n",
        "\n",
        "completion = client.chat.completions.create(\n",
        "    model=model_id,\n",
        "    messages=[\n",
        "        {\"role\": \"system\", \"content\": \"너는 카카오톡 대화를 하는 60대 여성이고 이름은 엄마야, 논리적인 추론 능력을 유지하며 스타일에 맞춰 이야기해.\"},\n",
        "        {\"role\": \"user\", \"content\": user_input}\n",
        "    ]\n",
        ")\n",
        "\n",
        "print(completion.choices[0].message.content)"
      ],
      "metadata": {
        "id": "vjiiuP5o9sUV"
      },
      "execution_count": null,
      "outputs": []
    },
    {
      "cell_type": "code",
      "source": [
        "#gradio로 챗봇 서빙하기\n",
        "import gradio as gr\n",
        "\n",
        "def predict(input, history):\n",
        "    history.append({\"role\": \"user\", \"content\": input})\n",
        "\n",
        "    gpt_response = client.chat.completions.create(\n",
        "        model=model_id,\n",
        "        messages=history,\n",
        "        temperature=0.2,  # 낮은 temperature 값으로 더 보수적인 답변을 얻습니다.\n",
        "        max_tokens=200,    # 출력의 길이를 제한합니다.\n",
        "        top_p=0.8,        # top_p 값을 조절하여 샘플링 전략을 변경합니다.\n",
        "        frequency_penalty=1,  # 필요하다면 패널티를 적용합니다.\n",
        "        presence_penalty=1,    # 필요하다면 패널티를 적용합니다.\n",
        "    )\n",
        "\n",
        "    response = gpt_response.choices[0].message.content\n",
        "\n",
        "    history.append({\"role\": \"assistant\", \"content\": response})\n",
        "\n",
        "    messages = [(history[i][\"content\"], history[i+1][\"content\"]) for i in range(1, len(history), 2)]\n",
        "\n",
        "    return messages, history\n",
        "\n",
        "with gr.Blocks() as demo:\n",
        "    chatbot = gr.Chatbot(label=\"ChatBot\")\n",
        "\n",
        "    state = gr.State([{\n",
        "        \"role\": \"system\",\n",
        "        \"content\": \"너는 카카오톡 대화를 하는 60대 여성이고 이름은 엄마야, 논리적인 추론 능력을 유지하며 스타일에 맞춰 이야기해.\"\n",
        "    }])\n",
        "\n",
        "    with gr.Row():\n",
        "        txt = gr.Textbox(show_label=False, placeholder=\"엄마랑 대화하기\")\n",
        "\n",
        "    txt.submit(predict, [txt, state], [chatbot, state])\n",
        "\n",
        "demo.launch(debug=True, share=True)\n"
      ],
      "metadata": {
        "id": "D5-nqL1CBPS7"
      },
      "execution_count": null,
      "outputs": []
    }
  ]
}
